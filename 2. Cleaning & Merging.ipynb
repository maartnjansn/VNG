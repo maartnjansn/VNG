{
 "cells": [
  {
   "cell_type": "code",
   "execution_count": 12,
   "metadata": {},
   "outputs": [],
   "source": [
    "import openpyxl as op\n",
    "import numpy as np\n",
    "import pandas as pd\n",
    "import re\n",
    "import os, sys\n",
    "import support as sp\n",
    "import time\n",
    "import glob\n",
    "import datetime"
   ]
  },
  {
   "cell_type": "markdown",
   "metadata": {},
   "source": [
    "### Import and clean files"
   ]
  },
  {
   "cell_type": "code",
   "execution_count": 15,
   "metadata": {
    "scrolled": true
   },
   "outputs": [
    {
     "name": "stdout",
     "output_type": "stream",
     "text": [
      "End of list reached. Length of list is: 265\n"
     ]
    },
    {
     "name": "stderr",
     "output_type": "stream",
     "text": [
      "e:\\users\\maarten\\appdata\\local\\programs\\python\\python36\\lib\\site-packages\\openpyxl\\reader\\worksheet.py:322: UserWarning: Unknown extension is not supported and will be removed\n",
      "  warn(msg)\n"
     ]
    },
    {
     "name": "stdout",
     "output_type": "stream",
     "text": [
      "Blue Monday_RH.xlsx has thrown an error\n",
      "Done!\n",
      "408.12634325027466\n"
     ]
    }
   ],
   "source": [
    "from openpyxl import load_workbook, Workbook\n",
    "from openpyxl.worksheet.datavalidation import DataValidation\n",
    "\n",
    "# -This script will last for about 6,5 minutes-\n",
    "\n",
    "# Open a file\n",
    "raw_path = 'data/raw/'\n",
    "in_path = 'data/in/'\n",
    "raw_dirs = os.listdir( raw_path )\n",
    "in_dirs = os.listdir( in_path )\n",
    "\n",
    "#remove all duplicates in the folder\n",
    "for index, file in enumerate(raw_dirs):\n",
    "    try:\n",
    "        if raw_dirs[index][:10] == raw_dirs[index+1][:10] and raw_dirs[index][-7:] != raw_dirs[index+1][-7:]:\n",
    "            #print(dirs[index], dirs[index+1])\n",
    "            raw_dirs.remove(raw_dirs[index+1])\n",
    "    except:\n",
    "        print('End of list reached. Length of list is:', len(raw_dirs))\n",
    "\n",
    "# start loading each file one by one. if it fails it will try to convert to .xlsx (openpyxl cannot handle .xls)\n",
    "start = time.time()\n",
    "for file in raw_dirs:\n",
    "    try:\n",
    "        wb2 = load_workbook(raw_path + file)\n",
    "        ws = wb2.active\n",
    "    except:\n",
    "        if file[-4:] == 'xlsx':\n",
    "            print(file, 'has thrown an error')\n",
    "        else:\n",
    "            #print(file, \"failed processing -> converting .xls to .xlsx...\")\n",
    "            wb2 = load_workbook(sp.convert(raw_path + file))\n",
    "            ws = wb2.active\n",
    "            #print(\"Finished\")\n",
    "            \n",
    "    # Clean headers by removing alphanumerical chars, capital letters, and replacing whitespaces with underscore\n",
    "    for col in ws.iter_cols(min_row=1, max_col=35, max_row=1):\n",
    "        for cell in col:\n",
    "            if cell.value is not None:\n",
    "                try:\n",
    "                    temp = re.sub(r'[^a-zA-Z\\s]','', cell.value)\n",
    "                    temp = temp.lower().rstrip()\n",
    "                except:\n",
    "                    print(file, cell.value)\n",
    "                    break\n",
    "                \n",
    "                temp = re.sub(r\"\\s+\", '_', temp)\n",
    "                ws[cell.coordinate] = temp\n",
    "    \n",
    "    book = Workbook()\n",
    "    new = book.active\n",
    "    \n",
    "    # save the file with cleaned headers to a new folder\n",
    "    for row in ws.iter_rows(min_col=1, max_col=35, min_row=1, max_row=2000):\n",
    "        new.append((cell.value for cell in row))\n",
    "    \n",
    "    if file[-3:] == 'xls':          \n",
    "        book.save(in_path + file[:-4] + '_converted.xlsx')\n",
    "        # print(file[:-4] + '_converted.xlsx saved')\n",
    "    else:\n",
    "        book.save(in_path + file)\n",
    "        # print(file, 'saved')\n",
    "    \n",
    "end = time.time()\n",
    "print('Done!')\n",
    "print(end - start)"
   ]
  },
  {
   "cell_type": "markdown",
   "metadata": {},
   "source": [
    "### Standardizing headers"
   ]
  },
  {
   "cell_type": "code",
   "execution_count": 16,
   "metadata": {},
   "outputs": [
    {
     "name": "stdout",
     "output_type": "stream",
     "text": [
      "Done!\n",
      "34.399967670440674\n"
     ]
    }
   ],
   "source": [
    "headers_d = {'extreme_cu' : 'extremecu', 'title' : 'story_title', 'time_change' : ['timechange', 'temporal_change'],\n",
    "             'spatial_change' : ['spatiallocation', 'spatial_location'], 'med_close' : ['mediumclose', 'medclose'],\n",
    "             'panel_nr' : 'panel', 'close_up' : 'closeup', 'character_change' : 'characters', 'divisional' : 'divsional_montage',\n",
    "             'actual_page' : 'page_in_book', 'coded_page' : 'page', 'base_framing' : ['base', 'baseframing'],\n",
    "             'causal_change' : 'causalchange', 'subjective_viewpoint' : 'subj'}\n",
    "\n",
    "in_path = 'data/in/'\n",
    "in_dirs = os.listdir( in_path )\n",
    "\n",
    "start = time.time()\n",
    "for file in in_dirs:\n",
    "    wb2 = load_workbook(in_path + file)\n",
    "    ws = wb2.active\n",
    "        \n",
    "    for col in ws.iter_cols(min_row=1, max_col=35, max_row=1):\n",
    "        for cell in col:\n",
    "            for key in headers_d:\n",
    "                if cell.value == headers_d[key]:\n",
    "                    ws[cell.coordinate] = key\n",
    "                    #print('dict1', cell.value, key)\n",
    "                \n",
    "                for value in headers_d[key]:\n",
    "                    if cell.value == value:\n",
    "                        ws[cell.coordinate] = key\n",
    "                     #   print('dict2', cell.value, key)\n",
    "                        \n",
    "    wb2.save(in_path + file)\n",
    "    \n",
    "end = time.time()\n",
    "print('Done!')\n",
    "print(end - start)"
   ]
  },
  {
   "cell_type": "markdown",
   "metadata": {},
   "source": [
    "### Merging files"
   ]
  },
  {
   "cell_type": "code",
   "execution_count": 17,
   "metadata": {
    "scrolled": true
   },
   "outputs": [
    {
     "name": "stderr",
     "output_type": "stream",
     "text": [
      "e:\\users\\maarten\\appdata\\local\\programs\\python\\python36\\lib\\site-packages\\pandas\\core\\frame.py:6201: FutureWarning: Sorting because non-concatenation axis is not aligned. A future version\n",
      "of pandas will change to not sort by default.\n",
      "\n",
      "To accept the future behavior, pass 'sort=True'.\n",
      "\n",
      "To retain the current behavior and silence the warning, pass sort=False\n",
      "\n",
      "  sort=sort)\n"
     ]
    },
    {
     "name": "stdout",
     "output_type": "stream",
     "text": [
      "265\n"
     ]
    }
   ],
   "source": [
    "all_data = pd.DataFrame()\n",
    "drop = ['writer', 'genre', 'drawer', 'originalyear', 'pub','format', 'publisher', \n",
    "        'chapter', 'st_panel', 'up', 'magazine_title', 'volume', 'macromono', 'macromacro', 'upright', \n",
    "        'macromicro', 'original_year', 'schema_total']#year, issuechapter\n",
    "\n",
    "count = 0\n",
    "for f in glob.glob(\"data/in/*.xlsx\"):\n",
    "    df = pd.read_excel(f)\n",
    "    count += 1\n",
    "    all_data = all_data.append(df, ignore_index=False)\n",
    "print(count)\n",
    "all_data = all_data.drop(drop, axis=1, errors='ignore')\n",
    "all_data = all_data[all_data.title != 'SUM']\n",
    "all_data = all_data[all_data.title != 'MEAN per panel']\n",
    "all_data['id']=all_data.reset_index().index # place holder"
   ]
  },
  {
   "cell_type": "markdown",
   "metadata": {},
   "source": [
    "### Export merged file to .csv"
   ]
  },
  {
   "cell_type": "code",
   "execution_count": 18,
   "metadata": {},
   "outputs": [],
   "source": [
    "all_data.to_csv('data/out/merged.csv')"
   ]
  },
  {
   "cell_type": "markdown",
   "metadata": {},
   "source": [
    "# Data\n",
    "### Cleaning data"
   ]
  },
  {
   "cell_type": "code",
   "execution_count": 43,
   "metadata": {
    "scrolled": true
   },
   "outputs": [
    {
     "name": "stderr",
     "output_type": "stream",
     "text": [
      "e:\\users\\maarten\\appdata\\local\\programs\\python\\python36\\lib\\site-packages\\IPython\\core\\interactiveshell.py:2785: DtypeWarning: Columns (0,1,20,30,31) have mixed types. Specify dtype option on import or set low_memory=False.\n",
      "  interactivity=interactivity, compiler=compiler, result=result)\n"
     ]
    },
    {
     "name": "stdout",
     "output_type": "stream",
     "text": [
      "Completed\n"
     ]
    }
   ],
   "source": [
    "data = pd.read_csv('data/out/merged.csv')\n",
    "addit = pd.read_excel('Raw/CCF_datameans.xlsx')\n",
    "\n",
    "\n",
    "data['amb'] = data['amb'] + data['ambiguous']\n",
    "addit = addit.rename({'Title': 'title'}, axis='columns')\n",
    "\n",
    "data = data.fillna(0)\n",
    "for i in range(len(data['time_change'])):\n",
    "    if i == len(data['time_change'])-1:\n",
    "        print('Completed')\n",
    "        break\n",
    "    else:    \n",
    "        if data.loc[i,'title'] != data.loc[i+1,'title'] and data.loc[i+1, 'title'] == 0 or data.loc[i+1, 'title'] == '':\n",
    "            data.loc[i+1, 'title'] = data.loc[i, 'title']\n",
    "        if data.loc[i,'issuechapter'] != data.loc[i+1,'issuechapter'] and data.loc[i+1, 'issuechapter'] == 0 or data.loc[i+1, 'issuechapter'] == '':\n",
    "            data.loc[i+1, 'issuechapter'] = data.loc[i, 'issuechapter']\n",
    "\n",
    "        a = str(data.loc[i, 'title'])\n",
    "        b = str(data.loc[i+1, 'title'])\n",
    "        c = str(data.loc[i, 'issuechapter'])\n",
    "        d = str(data.loc[i+1, 'issuechapter'])\n",
    "        if a[-5:] == b[-5:]:\n",
    "            data.loc[i+1, 'title'] = data.loc[i, 'title']\n",
    "        if a[:5] == b[:5]:\n",
    "            data.loc[i+1, 'title'] = data.loc[i, 'title'] \n",
    "        if c[-2:] == d[-2:] or c[:5] == d[:5]:\n",
    "            data.loc[i+1, 'issuechapter'] = data.loc[i, 'issuechapter']\n",
    "#        if c[:5] == d[:5]:\n",
    " #           data.loc[i+1, 'issuechapter'] = data.loc[i, 'issuechapter']\n",
    "        if c.isdigit() and d.isdigit() and len(c) < 3:\n",
    "            if c != d:\n",
    "                data.loc[i+1, 'issuechapter'] = data.loc[i, 'issuechapter']\n",
    "            \n",
    "        if len(str(data.loc[i, 'coded_page'])) >= 4 or data.loc[i, 'coded_page'] == 0:\n",
    "            data.loc[i, 'coded_page'] = data.loc[i-1, 'coded_page']\n",
    "        \n",
    "        #if isintance(data.loc[i, 'macro'], datetime.datetime)\n",
    "#data['title_id'] = data['title'] + data['issuechapter']\n",
    "data[\"combo\"] = data[\"title\"] + data[\"issuechapter\"].map(str)\n",
    "data['id'] = (data['combo']).astype('category').cat.codes"
   ]
  },
  {
   "cell_type": "code",
   "execution_count": 42,
   "metadata": {},
   "outputs": [
    {
     "name": "stdout",
     "output_type": "stream",
     "text": [
      "['American' 'Chinese' 'Dutch' 'Flemish' 'French' 'German' 'Japanese'\n",
      " 'Korean' 'Spanish' 'Swedish'] 291\n"
     ]
    },
    {
     "data": {
      "text/plain": [
       "array([78, 11, 40, 40, 21, 10, 55, 15,  1, 20], dtype=int64)"
      ]
     },
     "execution_count": 42,
     "metadata": {},
     "output_type": "execute_result"
    }
   ],
   "source": [
    "uniq, countser = np.unique(addit['Country_notype'], return_counts=True)\n",
    "print(uniq, sum(countser))\n",
    "countser"
   ]
  },
  {
   "cell_type": "code",
   "execution_count": 45,
   "metadata": {},
   "outputs": [
    {
     "name": "stdout",
     "output_type": "stream",
     "text": [
      "[  0   1   2   3   4   5   6   7   8   9  10  11  12  13  14  15  16  17\n",
      "  18  19  20  21  22  23  24  25  26  27  28  29  30  31  32  33  34  35\n",
      "  36  37  38  39  40  41  42  43  44  45  46  47  48  49  50  51  52  53\n",
      "  54  55  56  57  58  59  60  61  62  63  64  65  66  67  68  69  70  71\n",
      "  72  73  74  75  76  77  78  79  80  81  82  83  84  85  86  87  88  89\n",
      "  90  91  92  93  94  95  96  97  98  99 100 101 102 103 104 105 106 107\n",
      " 108 109 110 111 112 113 114 115 116 117 118 119 120 121 122 123 124 125\n",
      " 126 127 128 129 130 131 132 133 134 135 136 137 138 139 140 141 142 143\n",
      " 144 145 146 147 148 149 150 151 152 153 154 155 156 157 158 159 160 161\n",
      " 162 163 164 165 166 167 168 169 170 171 172 173 174 175 176 177 178 179\n",
      " 180 181 182 183 184 185 186 187 188 189 190 191 192 193 194 195 196 197\n",
      " 198 199 200 201 202 203 204 205 206 207 208 209 210 211 212 213 214 215\n",
      " 216 217 218 219 220 221 222 223 224 225 226 227 228 229 230 231 232 233\n",
      " 234 235 236 237 238 239 240 241 242 243 244 245 246 247 248 249 250 251\n",
      " 252 253 254 255 256 257 258 259 260 261 262 263 264 265 266 267 268 269\n",
      " 270 271 272 273]\n"
     ]
    },
    {
     "data": {
      "text/plain": [
       "274"
      ]
     },
     "execution_count": 45,
     "metadata": {},
     "output_type": "execute_result"
    }
   ],
   "source": [
    "#data['id'] = (data['title'] + '_' + str(data['issuechapter'])).astype('category').cat.codes\n",
    "#print(len(data['time_change']))\n",
    "print(np.unique(data['id']))\n",
    "#print(len(data['issuechapter'].unique()))\n",
    "len(data['id'].unique())\n"
   ]
  },
  {
   "cell_type": "markdown",
   "metadata": {},
   "source": [
    "### Merging dataframes and saving to .csv"
   ]
  },
  {
   "cell_type": "code",
   "execution_count": 46,
   "metadata": {},
   "outputs": [
    {
     "name": "stdout",
     "output_type": "stream",
     "text": [
      "  Unnamed: 0 actual_page  amb  amb.1  ambiguous  ambiguous.1  amorphic  \\\n",
      "0          2           0  0.0    0.0        1.0          0.0       0.0   \n",
      "1          3           0  0.0    0.0        0.0          0.0       0.0   \n",
      "2          4           0  0.0    0.0        0.0          0.0       0.0   \n",
      "3          5           0  0.0    0.0        0.0          0.0       0.0   \n",
      "4          6           0  0.0    0.0        0.0          0.0       0.0   \n",
      "\n",
      "   base_framing causal_change character_change     ...       Panels/page  \\\n",
      "0           1.0             x                x     ...          4.733333   \n",
      "1           1.0             0                1     ...          4.733333   \n",
      "2           1.0             0                1     ...          4.733333   \n",
      "3           1.0             1              0.5     ...          4.733333   \n",
      "4           1.0             0                0     ...          4.733333   \n",
      "\n",
      "      Macro      Mono     Micro  Amorphic       Amb  Characters  \\\n",
      "0  0.397817  0.493155  0.021032  0.049306  0.024405    0.622491   \n",
      "1  0.397817  0.493155  0.021032  0.049306  0.024405    0.622491   \n",
      "2  0.397817  0.493155  0.021032  0.049306  0.024405    0.622491   \n",
      "3  0.397817  0.493155  0.021032  0.049306  0.024405    0.622491   \n",
      "4  0.397817  0.493155  0.021032  0.049306  0.024405    0.622491   \n",
      "\n",
      "   Spatial location Causal change  Time change  \n",
      "0          0.060145      0.049706     0.845248  \n",
      "1          0.060145      0.049706     0.845248  \n",
      "2          0.060145      0.049706     0.845248  \n",
      "3          0.060145      0.049706     0.845248  \n",
      "4          0.060145      0.049706     0.845248  \n",
      "\n",
      "[5 rows x 62 columns]\n"
     ]
    }
   ],
   "source": [
    "mergeddf = pd.merge(data, addit, how=\"inner\", on='title')\n",
    "print(mergeddf.head())"
   ]
  },
  {
   "cell_type": "code",
   "execution_count": 49,
   "metadata": {},
   "outputs": [],
   "source": [
    "mergeddf.to_csv('data/out/df.csv')"
   ]
  },
  {
   "cell_type": "code",
   "execution_count": 48,
   "metadata": {},
   "outputs": [
    {
     "data": {
      "text/plain": [
       "254"
      ]
     },
     "execution_count": 48,
     "metadata": {},
     "output_type": "execute_result"
    }
   ],
   "source": [
    "len(mergeddf['combo'].unique())\n",
    "#mergeddf['Decade'].unique()"
   ]
  }
 ],
 "metadata": {
  "kernelspec": {
   "display_name": "Python 3",
   "language": "python",
   "name": "python3"
  },
  "language_info": {
   "codemirror_mode": {
    "name": "ipython",
    "version": 3
   },
   "file_extension": ".py",
   "mimetype": "text/x-python",
   "name": "python",
   "nbconvert_exporter": "python",
   "pygments_lexer": "ipython3",
   "version": "3.6.5"
  }
 },
 "nbformat": 4,
 "nbformat_minor": 2
}
